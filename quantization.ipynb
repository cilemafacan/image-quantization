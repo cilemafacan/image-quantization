{
 "cells": [
  {
   "cell_type": "code",
   "execution_count": 1,
   "metadata": {},
   "outputs": [],
   "source": [
    "import numpy as np\n",
    "from PIL import Image"
   ]
  },
  {
   "cell_type": "code",
   "execution_count": 2,
   "metadata": {},
   "outputs": [],
   "source": [
    "target_bits = [7, 6, 5, 4, 3, 2, 1]"
   ]
  },
  {
   "cell_type": "code",
   "execution_count": 3,
   "metadata": {},
   "outputs": [
    {
     "name": "stdout",
     "output_type": "stream",
     "text": [
      "Görüntü modu: L\n",
      "Görüntü 8 bit.\n"
     ]
    }
   ],
   "source": [
    "image = Image.open(\"tesla_8_bit.png\")\n",
    "print(f\"Görüntü modu: {image.mode}\")\n",
    "if image.mode == '1':\n",
    "    print(\"Görüntü 1 bit.\")\n",
    "elif image.mode in ['L', 'P']:\n",
    "    print(\"Görüntü 8 bit.\")\n",
    "elif image.mode == 'RGB':\n",
    "    print(\"Görüntü 24 bit.\")\n",
    "elif image.mode == 'RGBA':\n",
    "    print(\"Görüntü 32 bit.\")\n",
    "else:\n",
    "    print(\"Diğer bit derinlikleri.\")"
   ]
  },
  {
   "cell_type": "code",
   "execution_count": 4,
   "metadata": {},
   "outputs": [],
   "source": [
    "def quantize(image, original_bits, target_bits):\n",
    "    \"\"\"\n",
    "    Kuantalama işlemi.\n",
    "    Formül:  floor((Vi * (V'max - V'min) / (Vmax - Vmin)))\n",
    "\n",
    "    image: PIL.Image.Image\n",
    "    bits: int\n",
    "    \"\"\"\n",
    "    np_image = np.array(image)\n",
    "    Vnew_max = 2 ** target_bits - 1\n",
    "    Vnew_min = 0\n",
    "    Vmax = 2 ** original_bits - 1\n",
    "    Vmin = 0\n",
    "    quantized_image = np.floor((np_image * ((Vnew_max - Vnew_min) / (Vmax - Vmin))))\n",
    "    return quantized_image"
   ]
  },
  {
   "cell_type": "code",
   "execution_count": 5,
   "metadata": {},
   "outputs": [],
   "source": [
    "def de_quantize(image, original_bits, target_bits):\n",
    "    \"\"\"\n",
    "    De-kuantalama işlemi.\n",
    "    Formül:  floor((Vi * (Vmax - Vmin) / (V'max - V'min)))\n",
    "\n",
    "    image: PIL.Image.Image\n",
    "    bits: int\n",
    "    \"\"\"\n",
    "    np_image = np.array(image)\n",
    "    Vnew_max = 2 ** target_bits - 1\n",
    "    Vnew_min = 0\n",
    "    Vmax = 2 ** original_bits - 1\n",
    "    Vmin = 0\n",
    "    de_quantized_image = np.floor((np_image * ((Vmax - Vmin) / (Vnew_max - Vnew_min))))\n",
    "    return de_quantized_image"
   ]
  },
  {
   "cell_type": "code",
   "execution_count": 7,
   "metadata": {},
   "outputs": [],
   "source": [
    "def psnr(original, compressed):\n",
    "    mse = np.mean((original - compressed) ** 2)\n",
    "    max_pixel = 255.0\n",
    "    psnr = 20 * np.log10(max_pixel / np.sqrt(mse))\n",
    "    return psnr"
   ]
  },
  {
   "cell_type": "code",
   "execution_count": 8,
   "metadata": {},
   "outputs": [],
   "source": [
    "def mae(original, compressed):\n",
    "    mae = np.mean(np.abs(original - compressed))\n",
    "    return mae"
   ]
  },
  {
   "cell_type": "code",
   "execution_count": 8,
   "metadata": {},
   "outputs": [],
   "source": [
    "def apply_metrics(image1, image2):\n",
    "    \"\"\"\n",
    "    PSNR ve MAE hesaplayan fonksiyon.\n",
    "    \"\"\"\n",
    "    image1 = np.array(image1)\n",
    "    image2 = np.array(image2)\n",
    "    mse = np.mean((image1 - image2) ** 2)\n",
    "    psnr = 20 * np.log10(255.0 / np.sqrt(mse))\n",
    "    mae = np.mean(np.abs(image1 - image2))\n",
    "    return psnr, mae"
   ]
  },
  {
   "cell_type": "code",
   "execution_count": null,
   "metadata": {},
   "outputs": [],
   "source": [
    "for target_bit in target_bits:\n",
    "    quantized_image = quantize(image, 8, target_bit)\n",
    "    de_quantized_image = de_quantize(quantized_image, 8, target_bit)\n",
    "    print(f\"{target_bit} bit için PSNR değeri: {psnr(np.array(image), de_quantized_image)}\")\n",
    "    print(f\"{target_bit} bit için MAE değeri: {mae(np.array(image), de_quantized_image)}\")\n",
    "    de_quantized_image = Image.fromarray(de_quantized_image.astype(np.uint8))\n",
    "    print(f\"{target_bit} bit için PSNR ve MAE değerleri: {apply_metrics(image, de_quantized_image)}\")\n",
    "    de_quantized_image.save(f\"tesla_{target_bit}_bit_dequantized.png\")"
   ]
  }
 ],
 "metadata": {
  "kernelspec": {
   "display_name": "Python 3",
   "language": "python",
   "name": "python3"
  },
  "language_info": {
   "codemirror_mode": {
    "name": "ipython",
    "version": 3
   },
   "file_extension": ".py",
   "mimetype": "text/x-python",
   "name": "python",
   "nbconvert_exporter": "python",
   "pygments_lexer": "ipython3",
   "version": "3.12.7"
  }
 },
 "nbformat": 4,
 "nbformat_minor": 2
}
